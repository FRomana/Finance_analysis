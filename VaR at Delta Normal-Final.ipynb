{
 "cells": [
  {
   "cell_type": "code",
   "execution_count": 2,
   "metadata": {},
   "outputs": [],
   "source": [
    "import numpy as np\n",
    "import pandas as pd\n",
    "from pylab import mpl, plt\n",
    "import math\n",
    "import scipy.stats\n",
    "plt.style.use('seaborn')\n",
    "mpl.rcParams['font.family'] = 'serif'\n",
    "%matplotlib inline"
   ]
  },
  {
   "cell_type": "code",
   "execution_count": 3,
   "metadata": {},
   "outputs": [],
   "source": [
    "#load data\n",
    "data = pd.read_excel (r'Portfolio.xlsx', index_col=0, parse_dates=True) #for an earlier version of Excel, you may need to use the file extension of 'xls'"
   ]
  },
  {
   "cell_type": "markdown",
   "metadata": {},
   "source": [
    "# Compute daily return\n",
    "`returns = (data / data.shift(1)) - 1 ` "
   ]
  },
  {
   "cell_type": "code",
   "execution_count": 4,
   "metadata": {},
   "outputs": [],
   "source": [
    "returns = data.pct_change().dropna()"
   ]
  },
  {
   "cell_type": "code",
   "execution_count": 5,
   "metadata": {},
   "outputs": [
    {
     "data": {
      "text/html": [
       "<div>\n",
       "<style scoped>\n",
       "    .dataframe tbody tr th:only-of-type {\n",
       "        vertical-align: middle;\n",
       "    }\n",
       "\n",
       "    .dataframe tbody tr th {\n",
       "        vertical-align: top;\n",
       "    }\n",
       "\n",
       "    .dataframe thead th {\n",
       "        text-align: right;\n",
       "    }\n",
       "</style>\n",
       "<table border=\"1\" class=\"dataframe\">\n",
       "  <thead>\n",
       "    <tr style=\"text-align: right;\">\n",
       "      <th></th>\n",
       "      <th>EDF</th>\n",
       "      <th>Renault</th>\n",
       "      <th>Bouygues</th>\n",
       "      <th>Orange</th>\n",
       "      <th>Airbus</th>\n",
       "      <th>Carrefour</th>\n",
       "    </tr>\n",
       "    <tr>\n",
       "      <th>Date</th>\n",
       "      <th></th>\n",
       "      <th></th>\n",
       "      <th></th>\n",
       "      <th></th>\n",
       "      <th></th>\n",
       "      <th></th>\n",
       "    </tr>\n",
       "  </thead>\n",
       "  <tbody>\n",
       "    <tr>\n",
       "      <th>2016-06-21</th>\n",
       "      <td>0.001305</td>\n",
       "      <td>-0.001395</td>\n",
       "      <td>0.014312</td>\n",
       "      <td>0.014925</td>\n",
       "      <td>0.019696</td>\n",
       "      <td>0.003904</td>\n",
       "    </tr>\n",
       "    <tr>\n",
       "      <th>2016-06-22</th>\n",
       "      <td>0.004344</td>\n",
       "      <td>-0.006729</td>\n",
       "      <td>-0.022147</td>\n",
       "      <td>-0.022059</td>\n",
       "      <td>0.001656</td>\n",
       "      <td>0.000648</td>\n",
       "    </tr>\n",
       "    <tr>\n",
       "      <th>2016-06-23</th>\n",
       "      <td>-0.043253</td>\n",
       "      <td>0.043078</td>\n",
       "      <td>0.029406</td>\n",
       "      <td>0.061404</td>\n",
       "      <td>0.019835</td>\n",
       "      <td>0.014249</td>\n",
       "    </tr>\n",
       "    <tr>\n",
       "      <th>2016-06-24</th>\n",
       "      <td>-0.086799</td>\n",
       "      <td>-0.136152</td>\n",
       "      <td>-0.063875</td>\n",
       "      <td>-0.108028</td>\n",
       "      <td>-0.061588</td>\n",
       "      <td>-0.057046</td>\n",
       "    </tr>\n",
       "    <tr>\n",
       "      <th>2016-06-27</th>\n",
       "      <td>-0.040099</td>\n",
       "      <td>-0.060434</td>\n",
       "      <td>-0.030895</td>\n",
       "      <td>-0.000662</td>\n",
       "      <td>-0.042026</td>\n",
       "      <td>-0.031828</td>\n",
       "    </tr>\n",
       "  </tbody>\n",
       "</table>\n",
       "</div>"
      ],
      "text/plain": [
       "                 EDF   Renault  Bouygues    Orange    Airbus  Carrefour\n",
       "Date                                                                   \n",
       "2016-06-21  0.001305 -0.001395  0.014312  0.014925  0.019696   0.003904\n",
       "2016-06-22  0.004344 -0.006729 -0.022147 -0.022059  0.001656   0.000648\n",
       "2016-06-23 -0.043253  0.043078  0.029406  0.061404  0.019835   0.014249\n",
       "2016-06-24 -0.086799 -0.136152 -0.063875 -0.108028 -0.061588  -0.057046\n",
       "2016-06-27 -0.040099 -0.060434 -0.030895 -0.000662 -0.042026  -0.031828"
      ]
     },
     "execution_count": 5,
     "metadata": {},
     "output_type": "execute_result"
    }
   ],
   "source": [
    "# first 5 sample\n",
    "returns.head()"
   ]
  },
  {
   "cell_type": "code",
   "execution_count": 6,
   "metadata": {},
   "outputs": [],
   "source": [
    "weights = np.array([0.20, 0.10, 0.15, 0.15, 0.10, 0.30])"
   ]
  },
  {
   "cell_type": "markdown",
   "metadata": {},
   "source": [
    "# Compute Portfolio return"
   ]
  },
  {
   "cell_type": "code",
   "execution_count": 7,
   "metadata": {},
   "outputs": [],
   "source": [
    "portfolio_return = np.dot(np.array(returns),weights)"
   ]
  },
  {
   "cell_type": "code",
   "execution_count": 8,
   "metadata": {},
   "outputs": [
    {
     "name": "stdout",
     "output_type": "stream",
     "text": [
      "0.009475366906498318\n"
     ]
    }
   ],
   "source": [
    "# print standard deviation of portfolio return \n",
    "print(portfolio_return.std())"
   ]
  },
  {
   "cell_type": "code",
   "execution_count": 9,
   "metadata": {},
   "outputs": [],
   "source": [
    "# convert numpy array to panda dataframe\n",
    "p_return = pd.DataFrame({'Weight_return':portfolio_return[:]})"
   ]
  },
  {
   "cell_type": "code",
   "execution_count": 10,
   "metadata": {},
   "outputs": [
    {
     "data": {
      "image/png": "[encoded data removed]",
      "text/plain": [
       "<Figure size 432x288 with 1 Axes>"
      ]
     },
     "metadata": {
      "needs_background": "light"
     },
     "output_type": "display_data"
    }
   ],
   "source": [
    "# normal distribution \n",
    "nmean, nsigma = scipy.stats.norm.fit(portfolio_return)\n",
    "\n",
    "# plot \n",
    "nsupport = np.linspace(portfolio_return.min(), returns.max(), 100)\n",
    "p_return.hist(bins=40, density=True, histtype='stepfilled', alpha=0.5);\n",
    "plt.plot(nsupport, scipy.stats.norm.pdf(nsupport, loc=nmean, scale=nsigma), \"r-\")\n",
    "plt.title(\"normal distribution of Portfolio Return (%)\", weight='bold');"
   ]
  },
  {
   "cell_type": "markdown",
   "metadata": {},
   "source": [
    "# Calculate VaR at  Delta Normal "
   ]
  },
  {
   "cell_type": "code",
   "execution_count": 11,
   "metadata": {},
   "outputs": [],
   "source": [
    "QUANTILE_VALUE = 2.33\n",
    "PORTFOLIO_VALUE = 1000000"
   ]
  },
  {
   "cell_type": "code",
   "execution_count": 14,
   "metadata": {},
   "outputs": [
    {
     "name": "stdout",
     "output_type": "stream",
     "text": [
      "-22077.60489214108\n"
     ]
    }
   ],
   "source": [
    "var = -QUANTILE_VALUE * PORTFOLIO_VALUE * portfolio_return.std()\n",
    "print(var)"
   ]
  },
  {
   "cell_type": "markdown",
   "metadata": {},
   "source": [
    "# VAR at historical simulation"
   ]
  },
  {
   "cell_type": "code",
   "execution_count": 19,
   "metadata": {},
   "outputs": [
    {
     "name": "stdout",
     "output_type": "stream",
     "text": [
      "-24841.72739925212\n"
     ]
    }
   ],
   "source": [
    "print(p_return.quantile(0.01).iloc[0] * PORTFOLIO_VALUE)"
   ]
  },
  {
   "cell_type": "code",
   "execution_count": null,
   "metadata": {},
   "outputs": [],
   "source": []
  }
 ],
 "metadata": {
  "kernelspec": {
   "display_name": "Python 3",
   "language": "python",
   "name": "python3"
  },
  "language_info": {
   "codemirror_mode": {
    "name": "ipython",
    "version": 3
   },
   "file_extension": ".py",
   "mimetype": "text/x-python",
   "name": "python",
   "nbconvert_exporter": "python",
   "pygments_lexer": "ipython3",
   "version": "3.7.3"
  }
 },
 "nbformat": 4,
 "nbformat_minor": 2
}
